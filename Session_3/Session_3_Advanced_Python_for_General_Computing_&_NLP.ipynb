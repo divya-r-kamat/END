{
  "nbformat": 4,
  "nbformat_minor": 0,
  "metadata": {
    "colab": {
      "name": "Session 3 - Advanced Python for General Computing & NLP.ipynb",
      "provenance": [],
      "collapsed_sections": [],
      "toc_visible": true,
      "authorship_tag": "ABX9TyPJxeH2/GPzSR+7R04rCghd",
      "include_colab_link": true
    },
    "kernelspec": {
      "name": "python3",
      "display_name": "Python 3"
    }
  },
  "cells": [
    {
      "cell_type": "markdown",
      "metadata": {
        "id": "view-in-github",
        "colab_type": "text"
      },
      "source": [
        "<a href=\"https://colab.research.google.com/github/divya-r-kamat/END/blob/main/Session_3/Session_3_Advanced_Python_for_General_Computing_%26_NLP.ipynb\" target=\"_parent\"><img src=\"https://colab.research.google.com/assets/colab-badge.svg\" alt=\"Open In Colab\"/></a>"
      ]
    },
    {
      "cell_type": "markdown",
      "metadata": {
        "id": "HX-FbbptfykY"
      },
      "source": [
        " # ***Session 3 Assignment*** "
      ]
    },
    {
      "cell_type": "markdown",
      "metadata": {
        "id": "ZbZaA_9tfYep"
      },
      "source": [
        "**Question 1 :** Write a function using only list filter lambda that can tell whether a number is a Fibonacci number or not. You can use a pre-calculated list/dict to store fab numbers till 10000 "
      ]
    },
    {
      "cell_type": "code",
      "metadata": {
        "id": "mZb0QyLlfJ1p"
      },
      "source": [
        "##Generate Fabonacci numbers till 10000 and stores in a list\n",
        "fibs = [0, 1]\n",
        "for i in range(2,100001):\n",
        "  fibs.append(fibs[-1] + fibs[-2])\n",
        "\n",
        "def is_fibonacci(n):\n",
        "  ''' checks if the number is fibonacci number or not\n",
        "  input : A number to check '''\n",
        "  \n",
        "  try: \n",
        "    if isinstance(n, int) and n >=0:\n",
        "      result = bool(list(filter(lambda x: n == x, fibs)))\n",
        "      return result\n",
        "    else:\n",
        "       raise ValueError\n",
        "  except ValueError:\n",
        "    print (\"please enter positive integer!\")\n",
        "    \n"
      ],
      "execution_count": 84,
      "outputs": []
    },
    {
      "cell_type": "code",
      "metadata": {
        "id": "M-v9JyuynUHB",
        "outputId": "dd1ff69c-5008-4e37-9cc2-d4efefa924d6",
        "colab": {
          "base_uri": "https://localhost:8080/"
        }
      },
      "source": [
        "is_fibonacci(3)"
      ],
      "execution_count": 88,
      "outputs": [
        {
          "output_type": "execute_result",
          "data": {
            "text/plain": [
              "True"
            ]
          },
          "metadata": {
            "tags": []
          },
          "execution_count": 88
        }
      ]
    },
    {
      "cell_type": "code",
      "metadata": {
        "id": "9MZcOwdzk6u0"
      },
      "source": [
        ""
      ],
      "execution_count": 22,
      "outputs": []
    },
    {
      "cell_type": "code",
      "metadata": {
        "id": "Fq-O4SXek-zc"
      },
      "source": [
        ""
      ],
      "execution_count": null,
      "outputs": []
    }
  ]
}