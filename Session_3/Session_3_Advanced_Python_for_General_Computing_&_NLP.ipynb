{
  "nbformat": 4,
  "nbformat_minor": 0,
  "metadata": {
    "colab": {
      "name": "Session 3 - Advanced Python for General Computing & NLP.ipynb",
      "provenance": [],
      "collapsed_sections": [],
      "toc_visible": true,
      "authorship_tag": "ABX9TyM1+OB1oRY/2ZPLJQE28j3Q",
      "include_colab_link": true
    },
    "kernelspec": {
      "name": "python3",
      "display_name": "Python 3"
    }
  },
  "cells": [
    {
      "cell_type": "markdown",
      "metadata": {
        "id": "view-in-github",
        "colab_type": "text"
      },
      "source": [
        "<a href=\"https://colab.research.google.com/github/divya-r-kamat/END/blob/main/Session_3/Session_3_Advanced_Python_for_General_Computing_%26_NLP.ipynb\" target=\"_parent\"><img src=\"https://colab.research.google.com/assets/colab-badge.svg\" alt=\"Open In Colab\"/></a>"
      ]
    },
    {
      "cell_type": "markdown",
      "metadata": {
        "id": "HX-FbbptfykY"
      },
      "source": [
        " # ***Session 3 Assignment*** "
      ]
    },
    {
      "cell_type": "markdown",
      "metadata": {
        "id": "ZbZaA_9tfYep"
      },
      "source": [
        "### **Question 1 :** Write a function using only list filter lambda that can tell whether a number is a Fibonacci number or not. You can use a pre-calculated list/dict to store fab numbers till 10000 "
      ]
    },
    {
      "cell_type": "code",
      "metadata": {
        "id": "mZb0QyLlfJ1p"
      },
      "source": [
        "##Generate Fabonacci numbers till 10000 and stores in a list\n",
        "fibs = [0, 1]\n",
        "for i in range(2,100001):\n",
        "  fibs.append(fibs[-1] + fibs[-2])\n",
        "\n",
        "def is_fibonacci(n):\n",
        "  ''' checks if the number is fibonacci number or not\n",
        "  input : A number to check '''\n",
        "  \n",
        "  try: \n",
        "    if isinstance(n, int) and n >=0:\n",
        "      result = bool(list(filter(lambda x: n == x, fibs)))\n",
        "      return output\n",
        "    else:\n",
        "       raise ValueError\n",
        "  except ValueError:\n",
        "    print (\"please enter positive integer!\")\n",
        "    \n"
      ],
      "execution_count": 1,
      "outputs": []
    },
    {
      "cell_type": "code",
      "metadata": {
        "id": "M-v9JyuynUHB",
        "outputId": "3f7618d9-39b1-41b3-a367-088e6da08b67",
        "colab": {
          "base_uri": "https://localhost:8080/"
        }
      },
      "source": [
        "is_fibonacci(3)"
      ],
      "execution_count": 2,
      "outputs": [
        {
          "output_type": "execute_result",
          "data": {
            "text/plain": [
              "True"
            ]
          },
          "metadata": {
            "tags": []
          },
          "execution_count": 2
        }
      ]
    },
    {
      "cell_type": "markdown",
      "metadata": {
        "id": "LVIlR7DSLGjN"
      },
      "source": [
        "### **Question2 :**  Using list comprehension (and zip/lambda etc if required) write five different expressions that:\n",
        "\n",
        "#### *1.  add 2 iterables a and b such that a is even and b is odd*\n",
        "\n",
        "\n"
      ]
    },
    {
      "cell_type": "code",
      "metadata": {
        "id": "9MZcOwdzk6u0"
      },
      "source": [
        "def add_two_iterables(a,b):\n",
        "  ''' This function accepts two iterables (a,b) and adds such that \n",
        "  a is even and b is odd'''\n",
        "  \n",
        "  output = [x + y  for x, y in zip(a,b) if x %2 ==0 and y%2 !=0  ]\n",
        "  return output\n",
        "\n"
      ],
      "execution_count": 14,
      "outputs": []
    },
    {
      "cell_type": "code",
      "metadata": {
        "id": "Fq-O4SXek-zc",
        "outputId": "75238705-611d-4051-eb05-50e62411b676",
        "colab": {
          "base_uri": "https://localhost:8080/"
        }
      },
      "source": [
        "add_two_iterables([2,4,6,5], [1,9,8,2])"
      ],
      "execution_count": 13,
      "outputs": [
        {
          "output_type": "execute_result",
          "data": {
            "text/plain": [
              "[3, 13]"
            ]
          },
          "metadata": {
            "tags": []
          },
          "execution_count": 13
        }
      ]
    },
    {
      "cell_type": "markdown",
      "metadata": {
        "id": "r2KDokqJPx-C"
      },
      "source": [
        "#### 2. strips every vowel from a string provided (tsai>>t s)\n",
        "\n",
        "\n"
      ]
    },
    {
      "cell_type": "code",
      "metadata": {
        "id": "YzHy1EtEQXvr"
      },
      "source": [
        "def vowel_strip(input):\n",
        "  ''' strips every vowel from a string provided (tsai>>t s)'''\n",
        "\n",
        "  Vowels = ['a','e','i','o','u']\n",
        "\n",
        "  output = \"\".join([x for x in input if x not in Vowels])\n",
        "  return output"
      ],
      "execution_count": 18,
      "outputs": []
    },
    {
      "cell_type": "code",
      "metadata": {
        "id": "Warjpxc8Ow1g",
        "outputId": "627220d6-1821-4edc-97c7-1892a5083210",
        "colab": {
          "base_uri": "https://localhost:8080/",
          "height": 35
        }
      },
      "source": [
        "vowel_strip(\"Divya Kamat\")"
      ],
      "execution_count": 21,
      "outputs": [
        {
          "output_type": "execute_result",
          "data": {
            "application/vnd.google.colaboratory.intrinsic+json": {
              "type": "string"
            },
            "text/plain": [
              "'Dvy Kmt'"
            ]
          },
          "metadata": {
            "tags": []
          },
          "execution_count": 21
        }
      ]
    },
    {
      "cell_type": "markdown",
      "metadata": {
        "id": "pgk-eAm9RgQz"
      },
      "source": [
        "#### 3. acts like a ReLU function for a 1D array\n",
        "\n",
        "\n",
        "\n"
      ]
    },
    {
      "cell_type": "code",
      "metadata": {
        "id": "VbjwUMfdRIjb"
      },
      "source": [
        "def ReLu(input):\n",
        "  '''acts like a ReLU function for a 1D array'''\n",
        "\n",
        "  output = [max(0,x) for x in input]\n",
        "  return output"
      ],
      "execution_count": 22,
      "outputs": []
    },
    {
      "cell_type": "code",
      "metadata": {
        "id": "OKdSiN5aSJzg",
        "outputId": "016023ae-3719-43f5-d934-4dd072629c56",
        "colab": {
          "base_uri": "https://localhost:8080/"
        }
      },
      "source": [
        "ReLu([1,-9,0,7,8,-5])"
      ],
      "execution_count": 26,
      "outputs": [
        {
          "output_type": "execute_result",
          "data": {
            "text/plain": [
              "[1, 0, 0, 7, 8, 0]"
            ]
          },
          "metadata": {
            "tags": []
          },
          "execution_count": 26
        }
      ]
    },
    {
      "cell_type": "markdown",
      "metadata": {
        "id": "2MQBynkQTDFP"
      },
      "source": [
        "#### 4. acts like a sigmoid function for a 1D array"
      ]
    },
    {
      "cell_type": "code",
      "metadata": {
        "id": "_dzmeXVwSV1M"
      },
      "source": [
        "import math\n",
        "def sigmoid(input):\n",
        "  '''acts like a sigmoid function for a 1D array'''\n",
        "  output = [1/ (1 + math.exp(-x)) for x in input]\n",
        "  return output\n"
      ],
      "execution_count": 29,
      "outputs": []
    },
    {
      "cell_type": "code",
      "metadata": {
        "id": "wSgJ47YUTmKM",
        "outputId": "2eec6789-fb02-4efd-87ed-104067fd7c63",
        "colab": {
          "base_uri": "https://localhost:8080/"
        }
      },
      "source": [
        "sigmoid([ 0,  3, 50])"
      ],
      "execution_count": 35,
      "outputs": [
        {
          "output_type": "execute_result",
          "data": {
            "text/plain": [
              "[0.5, 0.9525741268224334, 1.0]"
            ]
          },
          "metadata": {
            "tags": []
          },
          "execution_count": 35
        }
      ]
    },
    {
      "cell_type": "markdown",
      "metadata": {
        "id": "C3IMgnebUphu"
      },
      "source": [
        "#### 5. takes a small character string and shifts all characters by 5 (handle boundary conditions) tsai>>yxfn"
      ]
    },
    {
      "cell_type": "code",
      "metadata": {
        "id": "hSprwKlPTz4j"
      },
      "source": [
        "def shift_character(input):\n",
        "\n",
        "  '''takes a small character string and shifts all characters by 5 (handle boundary conditions) tsai>>yxfn'''\n",
        "  \n",
        "  output =  ''.join(chr((ord(char) - 117 + 96) ) if ord(char)>117 else chr((ord(char) - 97 + 5 ) % 26 + 97) for char in input.lower())\n",
        "  return output"
      ],
      "execution_count": 62,
      "outputs": []
    },
    {
      "cell_type": "code",
      "metadata": {
        "id": "jfJnkGPiWnl1",
        "outputId": "15ca830c-ab6c-474d-b797-cd493574526d",
        "colab": {
          "base_uri": "https://localhost:8080/",
          "height": 35
        }
      },
      "source": [
        "shift_character('tsai')"
      ],
      "execution_count": 63,
      "outputs": [
        {
          "output_type": "execute_result",
          "data": {
            "application/vnd.google.colaboratory.intrinsic+json": {
              "type": "string"
            },
            "text/plain": [
              "'yxfn'"
            ]
          },
          "metadata": {
            "tags": []
          },
          "execution_count": 63
        }
      ]
    },
    {
      "cell_type": "code",
      "metadata": {
        "id": "GUEr-VX4XLsi",
        "outputId": "b0b63d8f-5f14-4865-cbd4-dbfde9c84e89",
        "colab": {
          "base_uri": "https://localhost:8080/",
          "height": 35
        }
      },
      "source": [
        "shift_character('uvwxyz')"
      ],
      "execution_count": 66,
      "outputs": [
        {
          "output_type": "execute_result",
          "data": {
            "application/vnd.google.colaboratory.intrinsic+json": {
              "type": "string"
            },
            "text/plain": [
              "'zabcde'"
            ]
          },
          "metadata": {
            "tags": []
          },
          "execution_count": 66
        }
      ]
    },
    {
      "cell_type": "markdown",
      "metadata": {
        "id": "idckH-MXaFpZ"
      },
      "source": [
        "### **Question 3:** A list comprehension expression that takes a ~200 word paragraph (write your own paragraph to check), and checks whether it has any of the swear words mentioned in https://github.com/RobertJGabriel/Google-profanity-words/blob/master/list.txt "
      ]
    },
    {
      "cell_type": "code",
      "metadata": {
        "id": "tJ9SG8-WaN86"
      },
      "source": [
        "import urllib.request\n",
        "def check_swear_words(input):\n",
        "  ''' A list comprehension expression that takes a ~200 word paragraph (write your own paragraph to check), \n",
        "  and checks whether it has any of the swear words mentioned\n",
        "  in https://github.com/RobertJGabriel/Google-profanity-words/blob/master/list.txt'''\n",
        "\n",
        "\n",
        "  content = urllib.request.urlopen('https://raw.githubusercontent.com/RobertJGabriel/Google-profanity-words/master/list.txt')\n",
        "  swear_words = content.read().decode('utf-8').split('\\n')\n",
        "\n",
        "  output = bool([ word for word in input.split(\" \") if word.lower() in swear_words])\n",
        "  return output\n",
        "\n"
      ],
      "execution_count": 77,
      "outputs": []
    },
    {
      "cell_type": "code",
      "metadata": {
        "id": "PTysoH9fbCDS",
        "outputId": "cda2ec64-fcad-4c1c-ef81-4aef0a398a50",
        "colab": {
          "base_uri": "https://localhost:8080/"
        }
      },
      "source": [
        "check_swear_words('''5hit today is sunday, a55 anal anus ar5e arrse arse ass ass-fucker asses this is very good whether assfucker.\n",
        "                    i am going on a holiday. assfukkad asshole I am not going to office today, \n",
        "                    assholes china created covid asswhole and mad our life a_s_s, US elections are next month b!tch''')"
      ],
      "execution_count": 78,
      "outputs": [
        {
          "output_type": "execute_result",
          "data": {
            "text/plain": [
              "True"
            ]
          },
          "metadata": {
            "tags": []
          },
          "execution_count": 78
        }
      ]
    },
    {
      "cell_type": "code",
      "metadata": {
        "id": "e-N5FIFKcoFx",
        "outputId": "3e422ed5-fb55-4839-b2e9-d8d584914918",
        "colab": {
          "base_uri": "https://localhost:8080/"
        }
      },
      "source": [
        "check_swear_words('''I am a software engineer''')"
      ],
      "execution_count": 79,
      "outputs": [
        {
          "output_type": "execute_result",
          "data": {
            "text/plain": [
              "False"
            ]
          },
          "metadata": {
            "tags": []
          },
          "execution_count": 79
        }
      ]
    },
    {
      "cell_type": "markdown",
      "metadata": {
        "id": "dkCLOpbzrCqa"
      },
      "source": [
        "### **Question 4:** Using reduce functions: \n",
        "- add only even numbers in a list\n",
        "- find the biggest character in a string (printable ascii characters)\n",
        "- adds every 3rd number in a list"
      ]
    },
    {
      "cell_type": "markdown",
      "metadata": {
        "id": "Wm_9zRI-wndV"
      },
      "source": [
        "#### 1. add only even numbers in a list"
      ]
    },
    {
      "cell_type": "code",
      "metadata": {
        "id": "oClx64gdd6W_"
      },
      "source": [
        "from functools import reduce\n",
        "def add_even(input):\n",
        "  output = reduce(lambda x, y : x + y if y%2 == 0 else x, input,0)\n",
        "  return output"
      ],
      "execution_count": 16,
      "outputs": []
    },
    {
      "cell_type": "code",
      "metadata": {
        "id": "9J34r5lDs16c",
        "outputId": "e6243508-684b-450b-9a6f-cfbf1cf2ae32",
        "colab": {
          "base_uri": "https://localhost:8080/"
        }
      },
      "source": [
        "add_even([1,2,3,4,5,6,7,8]) "
      ],
      "execution_count": 17,
      "outputs": [
        {
          "output_type": "execute_result",
          "data": {
            "text/plain": [
              "20"
            ]
          },
          "metadata": {
            "tags": []
          },
          "execution_count": 17
        }
      ]
    },
    {
      "cell_type": "markdown",
      "metadata": {
        "id": "F7klUQqVwd0y"
      },
      "source": [
        "#### 2. find the biggest character in a string (printable ascii characters)"
      ]
    },
    {
      "cell_type": "code",
      "metadata": {
        "id": "CXkDTyeKw1h2"
      },
      "source": [
        "def biggest_ascii_character(input):\n",
        "  output = reduce(lambda x, y : x if ord(x)>ord(y) else y,input)\n",
        "  return output"
      ],
      "execution_count": 18,
      "outputs": []
    },
    {
      "cell_type": "code",
      "metadata": {
        "id": "VnRDkfRMxms-",
        "outputId": "f86845d4-f60f-4982-8542-60c2c3b28743",
        "colab": {
          "base_uri": "https://localhost:8080/",
          "height": 35
        }
      },
      "source": [
        "biggest_ascii_character(\"abcdAB123\")"
      ],
      "execution_count": 24,
      "outputs": [
        {
          "output_type": "execute_result",
          "data": {
            "application/vnd.google.colaboratory.intrinsic+json": {
              "type": "string"
            },
            "text/plain": [
              "'d'"
            ]
          },
          "metadata": {
            "tags": []
          },
          "execution_count": 24
        }
      ]
    },
    {
      "cell_type": "code",
      "metadata": {
        "id": "ufFQ2-SzxtN_",
        "outputId": "c146f155-f445-4020-d573-2114bb3456fd",
        "colab": {
          "base_uri": "https://localhost:8080/",
          "height": 35
        }
      },
      "source": [
        "biggest_ascii_character(\"@#)123atg;\")"
      ],
      "execution_count": 28,
      "outputs": [
        {
          "output_type": "execute_result",
          "data": {
            "application/vnd.google.colaboratory.intrinsic+json": {
              "type": "string"
            },
            "text/plain": [
              "'t'"
            ]
          },
          "metadata": {
            "tags": []
          },
          "execution_count": 28
        }
      ]
    },
    {
      "cell_type": "markdown",
      "metadata": {
        "id": "NxTcCX5Nxliq"
      },
      "source": [
        "#### 3. adds every 3rd number in a list"
      ]
    },
    {
      "cell_type": "code",
      "metadata": {
        "id": "-gRM7XPaySNe"
      },
      "source": [
        "def fn_add_third_num(input): \n",
        "  output = reduce(lambda x , y : x + y, input[::3])\n",
        "  return output"
      ],
      "execution_count": 50,
      "outputs": []
    },
    {
      "cell_type": "code",
      "metadata": {
        "id": "loE7RuFL1HOc",
        "outputId": "d007ac1c-9bc9-4f0e-911d-04c416dd8b37",
        "colab": {
          "base_uri": "https://localhost:8080/"
        }
      },
      "source": [
        "fn_add_third_num([1,2,3,4,5,6,7, 8, 9, 10]) \n"
      ],
      "execution_count": 51,
      "outputs": [
        {
          "output_type": "execute_result",
          "data": {
            "text/plain": [
              "22"
            ]
          },
          "metadata": {
            "tags": []
          },
          "execution_count": 51
        }
      ]
    },
    {
      "cell_type": "markdown",
      "metadata": {
        "id": "WxGvHRHxN5bp"
      },
      "source": [
        "### **Question 5 :** Using randint, random.choice and list comprehensions, write an expression that generates 15 random KADDAADDDD number plates, where KA is fixed, D stands for a digit, and A stands for Capital alphabets. 10<<DD<<99 & 1000<<DDDD<<9999 "
      ]
    },
    {
      "cell_type": "code",
      "metadata": {
        "id": "D9sfMbSnyXkx"
      },
      "source": [
        "import random\n",
        "def fn_generate_n_number_plates(num):\n",
        "  output = ['KA' + str(random.randint(10,99)) + chr(random.randint(65,90)) + chr(random.randint(65,90)) + str(random.randint(1000,9999)) for _ in range(num) ]\n",
        "  return output\n"
      ],
      "execution_count": 63,
      "outputs": []
    },
    {
      "cell_type": "code",
      "metadata": {
        "id": "T-bkRFt8OOZ8",
        "outputId": "a57cadd5-db19-4ee0-916e-6705bd4b7e38",
        "colab": {
          "base_uri": "https://localhost:8080/"
        }
      },
      "source": [
        "fn_generate_n_number_plates(15)"
      ],
      "execution_count": 64,
      "outputs": [
        {
          "output_type": "execute_result",
          "data": {
            "text/plain": [
              "['KA44SC8121',\n",
              " 'KA88SZ6558',\n",
              " 'KA53SO3825',\n",
              " 'KA56BC3189',\n",
              " 'KA84XU3552',\n",
              " 'KA34RW3290',\n",
              " 'KA85FU5186',\n",
              " 'KA33WR3960',\n",
              " 'KA77XD7332',\n",
              " 'KA62CY5757',\n",
              " 'KA88EO8643',\n",
              " 'KA92HW8176',\n",
              " 'KA20ON9758',\n",
              " 'KA43EO3467',\n",
              " 'KA82BG7468']"
            ]
          },
          "metadata": {
            "tags": []
          },
          "execution_count": 64
        }
      ]
    },
    {
      "cell_type": "markdown",
      "metadata": {
        "id": "UlCsd-2eTUyV"
      },
      "source": [
        "### **Question 6:** Write the above again from scratch where KA can be changed to DL, and 1000/9999 ranges can be provided"
      ]
    },
    {
      "cell_type": "code",
      "metadata": {
        "id": "vSXqTp8dOpxP"
      },
      "source": [
        "import random\n",
        "def fn_generate_number_plates(state_cd, num, start_range, end_range):\n",
        "  if len(state_cd)==2 and (start_range>=1000 and start_range<=9999) and (end_range>=1000 and end_range<=9999 and start_range < end_range):\n",
        "     output = [state_cd + str(random.randint(10,99)) + chr(random.randint(65,90)) + chr(random.randint(65,90)) + str(random.randint(start_range,end_range)) for _ in range(num) ]\n",
        "     return output\n",
        "  else:\n",
        "    print(\"Input arguments invalid\")\n",
        "  \n"
      ],
      "execution_count": 78,
      "outputs": []
    },
    {
      "cell_type": "code",
      "metadata": {
        "id": "f-YWeSOyOrFQ",
        "outputId": "d49a27ed-2025-4059-db66-7bed3c3df259",
        "colab": {
          "base_uri": "https://localhost:8080/"
        }
      },
      "source": [
        "fn_generate_number_plates('DL',10, 1000, 2000)"
      ],
      "execution_count": 82,
      "outputs": [
        {
          "output_type": "execute_result",
          "data": {
            "text/plain": [
              "['DL97PM1231',\n",
              " 'DL77OW1285',\n",
              " 'DL91CE1552',\n",
              " 'DL17JP1903',\n",
              " 'DL63QU1152',\n",
              " 'DL68EG1769',\n",
              " 'DL60VS1749',\n",
              " 'DL18GB1850',\n",
              " 'DL76JA1692',\n",
              " 'DL27PI2000']"
            ]
          },
          "metadata": {
            "tags": []
          },
          "execution_count": 82
        }
      ]
    },
    {
      "cell_type": "code",
      "metadata": {
        "id": "494lshY6O7Pr"
      },
      "source": [
        ""
      ],
      "execution_count": null,
      "outputs": []
    }
  ]
}